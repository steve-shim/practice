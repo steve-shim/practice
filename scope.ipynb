{
 "cells": [
  {
   "cell_type": "markdown",
   "metadata": {},
   "source": [
    "전역 변수를 지역 범위 (local scope)에서 사용하고 싶으시면 지역 영역에서 global 표현을 사용합니다"
   ]
  },
  {
   "cell_type": "code",
   "execution_count": 4,
   "metadata": {},
   "outputs": [
    {
     "name": "stdout",
     "output_type": "stream",
     "text": [
      "11\n"
     ]
    }
   ],
   "source": [
    "# x = 10 \n",
    "# def func():\n",
    "#     x += 1\n",
    "#     print(x) \n",
    "# func()\n",
    "\n",
    "# UnboundLocalError: local variable 'x' referenced before assignment\n",
    "\n",
    "\n",
    "x = 10\n",
    "def func():\n",
    "    global x\n",
    "    x += 1\n",
    "    print(x)\n",
    "func()\n",
    "\n",
    "# 11"
   ]
  },
  {
   "cell_type": "markdown",
   "metadata": {},
   "source": [
    "immutable 변수인 longest 가 전역변수에 위치할 때 local scope에서 접근방법 -> global"
   ]
  },
  {
   "cell_type": "code",
   "execution_count": 2,
   "metadata": {},
   "outputs": [
    {
     "data": {
      "text/plain": [
       "3"
      ]
     },
     "execution_count": 2,
     "metadata": {},
     "output_type": "execute_result"
    }
   ],
   "source": [
    "# Definition for a binary tree node.\n",
    "class TreeNode:\n",
    "    def __init__(self, x):\n",
    "        self.val = x\n",
    "        self.left = None\n",
    "        self.right = None\n",
    "\n",
    "longest = 0\n",
    "class Solution:\n",
    "\n",
    "    def diameterOfBinaryTree(self, root: TreeNode) -> int:\n",
    "             \n",
    "        def dfs(node: TreeNode) -> int:\n",
    "            global longest\n",
    "            if not node:\n",
    "                return -1\n",
    "            # 왼쪽, 오른쪽 각각 리프 노드까지 탐색\n",
    "            left = dfs(node.left)\n",
    "            right = dfs(node.right)\n",
    "\n",
    "            # 가장 긴 경로\n",
    "            longest = max(longest, left + right + 2)\n",
    "            # 상태값\n",
    "            return max(left, right) + 1\n",
    "\n",
    "        dfs(root)\n",
    "        return longest\n",
    "        \n",
    "root1 = TreeNode(1)\n",
    "root2 = TreeNode(2)\n",
    "root3 = TreeNode(3)\n",
    "root4 = TreeNode(4)\n",
    "root5 = TreeNode(5)\n",
    "root1.left = root2\n",
    "root1.right = root3\n",
    "root2.left = root4\n",
    "root2.right = root5\n",
    "tt = Solution()\n",
    "a = tt.diameterOfBinaryTree(root1)\n",
    "a"
   ]
  },
  {
   "cell_type": "markdown",
   "metadata": {},
   "source": [
    "immutable 변수인 longest 가 nonlocal 에 위치할 때 local scope에서 접근방법 -> nonlocal"
   ]
  },
  {
   "cell_type": "code",
   "execution_count": 5,
   "metadata": {},
   "outputs": [
    {
     "data": {
      "text/plain": [
       "3"
      ]
     },
     "execution_count": 5,
     "metadata": {},
     "output_type": "execute_result"
    }
   ],
   "source": [
    "# Definition for a binary tree node.\n",
    "class TreeNode:\n",
    "    def __init__(self, x):\n",
    "        self.val = x\n",
    "        self.left = None\n",
    "        self.right = None\n",
    "\n",
    "\n",
    "class Solution:\n",
    "\n",
    "    def diameterOfBinaryTree(self, root: TreeNode) -> int:\n",
    "        longest = 0     \n",
    "        def dfs(node: TreeNode) -> int:\n",
    "            nonlocal longest\n",
    "            if not node:\n",
    "                return -1\n",
    "            # 왼쪽, 오른쪽 각각 리프 노드까지 탐색\n",
    "            left = dfs(node.left)\n",
    "            right = dfs(node.right)\n",
    "\n",
    "            # 가장 긴 경로\n",
    "            longest = max(longest, left + right + 2)\n",
    "            # 상태값\n",
    "            return max(left, right) + 1\n",
    "\n",
    "        dfs(root)\n",
    "        return longest\n",
    "        \n",
    "root1 = TreeNode(1)\n",
    "root2 = TreeNode(2)\n",
    "root3 = TreeNode(3)\n",
    "root4 = TreeNode(4)\n",
    "root5 = TreeNode(5)\n",
    "root1.left = root2\n",
    "root1.right = root3\n",
    "root2.left = root4\n",
    "root2.right = root5\n",
    "tt = Solution()\n",
    "a = tt.diameterOfBinaryTree(root1)\n",
    "a"
   ]
  },
  {
   "cell_type": "markdown",
   "metadata": {},
   "source": [
    "class 변수를 self.longest 로 접근했을 때 해당 인스턴스 안에서만 값을 공유한다"
   ]
  },
  {
   "cell_type": "code",
   "execution_count": 7,
   "metadata": {},
   "outputs": [
    {
     "data": {
      "text/plain": [
       "3"
      ]
     },
     "execution_count": 7,
     "metadata": {},
     "output_type": "execute_result"
    }
   ],
   "source": [
    "# Definition for a binary tree node.\n",
    "class TreeNode:\n",
    "    def __init__(self, x):\n",
    "        self.val = x\n",
    "        self.left = None\n",
    "        self.right = None\n",
    "\n",
    "\n",
    "class Solution:\n",
    "    longest = 0\n",
    "    def diameterOfBinaryTree(self, root: TreeNode) -> int:\n",
    "               \n",
    "        def dfs(node: TreeNode) -> int:\n",
    "            if not node:\n",
    "                return -1\n",
    "            # 왼쪽, 오른쪽 각각 리프 노드까지 탐색\n",
    "            left = dfs(node.left)\n",
    "            right = dfs(node.right)\n",
    "\n",
    "            # 가장 긴 경로\n",
    "            self.longest = max(self.longest, left + right + 2)\n",
    "            # 상태값\n",
    "            return max(left, right) + 1\n",
    "\n",
    "        dfs(root)\n",
    "        return self.longest\n",
    "        \n",
    "root1 = TreeNode(1)\n",
    "root2 = TreeNode(2)\n",
    "root3 = TreeNode(3)\n",
    "root4 = TreeNode(4)\n",
    "root5 = TreeNode(5)\n",
    "root1.left = root2\n",
    "root1.right = root3\n",
    "root2.left = root4\n",
    "root2.right = root5\n",
    "tt = Solution()\n",
    "a = tt.diameterOfBinaryTree(root1)\n",
    "a"
   ]
  },
  {
   "cell_type": "markdown",
   "metadata": {},
   "source": [
    "class 변수를 Solution.longest 로 접근했을 때 Solution 클래스로 만든 모든 인스턴스(객체)에서 값을 공유한다 "
   ]
  },
  {
   "cell_type": "code",
   "execution_count": 8,
   "metadata": {},
   "outputs": [
    {
     "data": {
      "text/plain": [
       "3"
      ]
     },
     "execution_count": 8,
     "metadata": {},
     "output_type": "execute_result"
    }
   ],
   "source": [
    "# Definition for a binary tree node.\n",
    "class TreeNode:\n",
    "    def __init__(self, x):\n",
    "        self.val = x\n",
    "        self.left = None\n",
    "        self.right = None\n",
    "\n",
    "\n",
    "class Solution:\n",
    "    longest = 0\n",
    "    def diameterOfBinaryTree(self, root: TreeNode) -> int:\n",
    "               \n",
    "        def dfs(node: TreeNode) -> int:\n",
    "            if not node:\n",
    "                return -1\n",
    "            # 왼쪽, 오른쪽 각각 리프 노드까지 탐색\n",
    "            left = dfs(node.left)\n",
    "            right = dfs(node.right)\n",
    "\n",
    "            # 가장 긴 경로\n",
    "            Solution.longest = max(Solution.longest, left + right + 2)\n",
    "            # 상태값\n",
    "            return max(left, right) + 1\n",
    "\n",
    "        dfs(root)\n",
    "        return Solution.longest\n",
    "        \n",
    "root1 = TreeNode(1)\n",
    "root2 = TreeNode(2)\n",
    "root3 = TreeNode(3)\n",
    "root4 = TreeNode(4)\n",
    "root5 = TreeNode(5)\n",
    "root1.left = root2\n",
    "root1.right = root3\n",
    "root2.left = root4\n",
    "root2.right = root5\n",
    "tt = Solution()\n",
    "a = tt.diameterOfBinaryTree(root1)\n",
    "a"
   ]
  },
  {
   "cell_type": "code",
   "execution_count": null,
   "metadata": {},
   "outputs": [],
   "source": []
  }
 ],
 "metadata": {
  "kernelspec": {
   "display_name": "Python 3",
   "language": "python",
   "name": "python3"
  },
  "language_info": {
   "codemirror_mode": {
    "name": "ipython",
    "version": 3
   },
   "file_extension": ".py",
   "mimetype": "text/x-python",
   "name": "python",
   "nbconvert_exporter": "python",
   "pygments_lexer": "ipython3",
   "version": "3.7.6"
  }
 },
 "nbformat": 4,
 "nbformat_minor": 4
}
